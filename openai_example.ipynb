{
 "cells": [
  {
   "cell_type": "markdown",
   "id": "af02d07d-37e2-465b-b6bb-a183e2c96ee1",
   "metadata": {},
   "source": [
    "## First downloads, imports and env keys"
   ]
  },
  {
   "cell_type": "code",
   "execution_count": 1,
   "id": "5f7d6ad8-d668-45e3-9e6f-3ac291b1ec62",
   "metadata": {},
   "outputs": [
    {
     "name": "stdout",
     "output_type": "stream",
     "text": [
      "Collecting openai\n",
      "  Downloading openai-0.27.4-py3-none-any.whl (70 kB)\n",
      "     -------------------------------------- 70.3/70.3 kB 551.0 kB/s eta 0:00:00\n",
      "Requirement already satisfied: requests>=2.20 in c:\\users\\xyux2\\anaconda3\\lib\\site-packages (from openai) (2.27.1)\n",
      "Requirement already satisfied: tqdm in c:\\users\\xyux2\\anaconda3\\lib\\site-packages (from openai) (4.64.0)\n",
      "Requirement already satisfied: aiohttp in c:\\users\\xyux2\\anaconda3\\lib\\site-packages (from openai) (3.8.1)\n",
      "Requirement already satisfied: idna<4,>=2.5 in c:\\users\\xyux2\\anaconda3\\lib\\site-packages (from requests>=2.20->openai) (3.3)\n",
      "Requirement already satisfied: charset-normalizer~=2.0.0 in c:\\users\\xyux2\\anaconda3\\lib\\site-packages (from requests>=2.20->openai) (2.0.4)\n",
      "Requirement already satisfied: urllib3<1.27,>=1.21.1 in c:\\users\\xyux2\\anaconda3\\lib\\site-packages (from requests>=2.20->openai) (1.26.9)\n",
      "Requirement already satisfied: certifi>=2017.4.17 in c:\\users\\xyux2\\anaconda3\\lib\\site-packages (from requests>=2.20->openai) (2022.12.7)\n",
      "Requirement already satisfied: yarl<2.0,>=1.0 in c:\\users\\xyux2\\anaconda3\\lib\\site-packages (from aiohttp->openai) (1.6.3)\n",
      "Requirement already satisfied: aiosignal>=1.1.2 in c:\\users\\xyux2\\anaconda3\\lib\\site-packages (from aiohttp->openai) (1.2.0)\n",
      "Requirement already satisfied: async-timeout<5.0,>=4.0.0a3 in c:\\users\\xyux2\\anaconda3\\lib\\site-packages (from aiohttp->openai) (4.0.2)\n",
      "Requirement already satisfied: frozenlist>=1.1.1 in c:\\users\\xyux2\\anaconda3\\lib\\site-packages (from aiohttp->openai) (1.2.0)\n",
      "Requirement already satisfied: multidict<7.0,>=4.5 in c:\\users\\xyux2\\anaconda3\\lib\\site-packages (from aiohttp->openai) (5.1.0)\n",
      "Requirement already satisfied: attrs>=17.3.0 in c:\\users\\xyux2\\anaconda3\\lib\\site-packages (from aiohttp->openai) (21.4.0)\n",
      "Requirement already satisfied: colorama in c:\\users\\xyux2\\anaconda3\\lib\\site-packages (from tqdm->openai) (0.4.6)\n",
      "Installing collected packages: openai\n",
      "Successfully installed openai-0.27.4\n"
     ]
    }
   ],
   "source": [
    "!pip install openai"
   ]
  },
  {
   "cell_type": "code",
   "execution_count": 2,
   "id": "fa181155-5232-4516-aee7-9919e28532f8",
   "metadata": {},
   "outputs": [],
   "source": [
    "import openai"
   ]
  },
  {
   "cell_type": "code",
   "execution_count": 3,
   "id": "80ba9933-3019-448d-9420-b89d19ceb013",
   "metadata": {},
   "outputs": [],
   "source": [
    "import os"
   ]
  },
  {
   "cell_type": "code",
   "execution_count": 6,
   "id": "44fb43fb-0395-453f-a6d4-e50c0d325c98",
   "metadata": {},
   "outputs": [],
   "source": [
    "openai.api_key = os.getenv('OPENAI_API_KEY')"
   ]
  },
  {
   "cell_type": "code",
   "execution_count": 7,
   "id": "12e660c1-cac9-4226-9deb-4b1c2e87a729",
   "metadata": {},
   "outputs": [],
   "source": [
    "response = openai.Completion.create(\n",
    "            model='text-davinci-003',\n",
    "            prompt = 'Give me two reasons to learn OpenAI API with Python',\n",
    "            max_tokens = 300)\n"
   ]
  },
  {
   "cell_type": "code",
   "execution_count": 8,
   "id": "c85026fd-b9bc-451c-beea-66ee63e74e08",
   "metadata": {},
   "outputs": [
    {
     "data": {
      "text/plain": [
       "<OpenAIObject text_completion id=cmpl-73t0tTlkzgs1K52BWfw4Floo01opa at 0x162751ddd10> JSON: {\n",
       "  \"choices\": [\n",
       "    {\n",
       "      \"finish_reason\": \"stop\",\n",
       "      \"index\": 0,\n",
       "      \"logprobs\": null,\n",
       "      \"text\": \"\\n\\n1. OpenAI\\u2019s API with Python makes it easy for developers to quickly create applications that make use of AI models. The API provides ready-made access to dozens of AI models, giving developers more options than ever before.\\n\\n2. Python is a widely used, versatile programming language that is well-suited for developing AI applications. By using Python and OpenAI\\u2019s API together, developers can save time and energy building complex AI systems and focus on the features that make their application unique.\"\n",
       "    }\n",
       "  ],\n",
       "  \"created\": 1681160811,\n",
       "  \"id\": \"cmpl-73t0tTlkzgs1K52BWfw4Floo01opa\",\n",
       "  \"model\": \"text-davinci-003\",\n",
       "  \"object\": \"text_completion\",\n",
       "  \"usage\": {\n",
       "    \"completion_tokens\": 106,\n",
       "    \"prompt_tokens\": 11,\n",
       "    \"total_tokens\": 117\n",
       "  }\n",
       "}"
      ]
     },
     "execution_count": 8,
     "metadata": {},
     "output_type": "execute_result"
    }
   ],
   "source": [
    "response"
   ]
  },
  {
   "cell_type": "code",
   "execution_count": 10,
   "id": "afbdeeb2-db05-4758-b50f-fe2cb399aae3",
   "metadata": {},
   "outputs": [
    {
     "name": "stdout",
     "output_type": "stream",
     "text": [
      "\n",
      "\n",
      "1. OpenAI’s API with Python makes it easy for developers to quickly create applications that make use of AI models. The API provides ready-made access to dozens of AI models, giving developers more options than ever before.\n",
      "\n",
      "2. Python is a widely used, versatile programming language that is well-suited for developing AI applications. By using Python and OpenAI’s API together, developers can save time and energy building complex AI systems and focus on the features that make their application unique.\n"
     ]
    }
   ],
   "source": [
    "print(response['choices'][0]['text'])"
   ]
  }
 ],
 "metadata": {
  "kernelspec": {
   "display_name": "Python 3 (ipykernel)",
   "language": "python",
   "name": "python3"
  },
  "language_info": {
   "codemirror_mode": {
    "name": "ipython",
    "version": 3
   },
   "file_extension": ".py",
   "mimetype": "text/x-python",
   "name": "python",
   "nbconvert_exporter": "python",
   "pygments_lexer": "ipython3",
   "version": "3.9.12"
  }
 },
 "nbformat": 4,
 "nbformat_minor": 5
}
