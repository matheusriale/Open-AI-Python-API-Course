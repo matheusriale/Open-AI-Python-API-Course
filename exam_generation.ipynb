{
 "cells": [
  {
   "cell_type": "code",
   "execution_count": 1,
   "id": "509ef108-f090-41fa-89fc-0e33f08d90b4",
   "metadata": {},
   "outputs": [],
   "source": [
    "import os\n",
    "import openai"
   ]
  },
  {
   "cell_type": "code",
   "execution_count": 2,
   "id": "13388e28-4664-4468-82e9-9811abb86144",
   "metadata": {},
   "outputs": [],
   "source": [
    "#os.environ['OPENAI_API_KEY'] = ''\n",
    "openai.api_key = os.getenv('OPENAI_API_KEY')\n"
   ]
  },
  {
   "cell_type": "code",
   "execution_count": 3,
   "id": "01a630fe-3636-4986-b8d1-2558b4874cf4",
   "metadata": {},
   "outputs": [],
   "source": [
    "prompt = \"Give me details about the technology startup called Mimi and Pimo\""
   ]
  },
  {
   "cell_type": "code",
   "execution_count": 4,
   "id": "ff98d6ca-e301-4d0f-903d-3578c8ce32f2",
   "metadata": {},
   "outputs": [],
   "source": [
    "response = openai.Completion.create(engine = 'text-davinci-003',\n",
    "                                    prompt = prompt,\n",
    "                                    max_tokens=256,\n",
    "                                    temperature = 0.7)"
   ]
  },
  {
   "cell_type": "code",
   "execution_count": 5,
   "id": "adcb631c-3c3a-4327-a525-91d0c6f4bcb6",
   "metadata": {},
   "outputs": [
    {
     "name": "stdout",
     "output_type": "stream",
     "text": [
      "\n",
      "\n",
      "Mimi and Pimo is an AI-driven technology startup that helps people with their everyday tasks. Founded in 2017, the company has developed a voice-activated assistant that can be used to shop, book travel, and provide information. The company is based in London, England and is funded by venture capital firms including Y Combinator and Octopus Ventures. The company has developed a suite of products including an app, web platform, and a range of devices that give users access to the assistant. The company has also developed an AI-driven chatbot to provide customer service and answer questions. The company has been featured in publications such as TechCrunch and The Guardian.\n"
     ]
    }
   ],
   "source": [
    "print(response['choices'][0]['text'])"
   ]
  },
  {
   "cell_type": "markdown",
   "id": "e2535d59-05e0-4038-9dea-895f4398cd17",
   "metadata": {},
   "source": [
    "Model hallucinates, one of the ways of fixing it:"
   ]
  },
  {
   "cell_type": "code",
   "execution_count": 6,
   "id": "837ec2e3-aaad-4857-b9be-9f03f940bcba",
   "metadata": {},
   "outputs": [],
   "source": [
    "prompt = \"Give me details about the technology startup called Mimi and Pimo. Only answer if you are 100% sure that this company exists, otherwise specify, 'I don't know '\""
   ]
  },
  {
   "cell_type": "code",
   "execution_count": 7,
   "id": "09968e6f-96c0-4390-b9c5-c207ba5c2458",
   "metadata": {},
   "outputs": [],
   "source": [
    "response = openai.Completion.create(engine = 'text-davinci-003',\n",
    "                                    prompt = prompt,\n",
    "                                    max_tokens=256,\n",
    "                                    temperature = 0.7)"
   ]
  },
  {
   "cell_type": "code",
   "execution_count": 8,
   "id": "7c56aa69-8f80-46bd-b74d-ab2305370c24",
   "metadata": {},
   "outputs": [
    {
     "name": "stdout",
     "output_type": "stream",
     "text": [
      "\n",
      "\n",
      "I don't know.\n"
     ]
    }
   ],
   "source": [
    "print(response['choices'][0]['text'])"
   ]
  },
  {
   "cell_type": "markdown",
   "id": "122963fe-b694-4890-b9e3-a34e43a39c3f",
   "metadata": {},
   "source": [
    "## Creating our test prompt"
   ]
  },
  {
   "cell_type": "code",
   "execution_count": 9,
   "id": "509599c5-ae77-4731-aa6c-b9a5ea069010",
   "metadata": {},
   "outputs": [],
   "source": [
    "def create_test_prompt(topic,num_questions,num_possible_answers):\n",
    "    prompt = f\"Create a multiple choice quiz on the topic of {topic} consisting of {num_questions} questions.\"\\\n",
    "            +f\" Each question should have {num_possible_answers} options.\"\\\n",
    "            +f\" Also include the correct answer for each question using the starting string 'Correct answer:' \"\n",
    "    return prompt"
   ]
  },
  {
   "cell_type": "code",
   "execution_count": 10,
   "id": "619893ca-107d-4bde-9c93-79626e323f35",
   "metadata": {},
   "outputs": [
    {
     "data": {
      "text/plain": [
       "\"Create a multiple choice quiz on the topic of Python consisting of 4 questions. Each question should have 4 options. Also include the correct answer for each question using the starting string 'Correct answer:' \""
      ]
     },
     "execution_count": 10,
     "metadata": {},
     "output_type": "execute_result"
    }
   ],
   "source": [
    "create_test_prompt(\"Python\",4,4)"
   ]
  },
  {
   "cell_type": "code",
   "execution_count": 11,
   "id": "bdabde49-d362-4d33-bbda-7940137bcb5c",
   "metadata": {},
   "outputs": [],
   "source": [
    "response = openai.Completion.create(engine = 'text-davinci-003',\n",
    "                                    prompt = create_test_prompt('Spotify',4,4),\n",
    "                                    max_tokens=256,\n",
    "                                    temperature = 0.7)"
   ]
  },
  {
   "cell_type": "code",
   "execution_count": 12,
   "id": "adbcac29-cddd-4cc7-9649-8f5b72f6a4ce",
   "metadata": {},
   "outputs": [
    {
     "name": "stdout",
     "output_type": "stream",
     "text": [
      "\n",
      "\n",
      "1. What is the name of the music streaming service owned by Spotify?\n",
      "a. iTunes\n",
      "b. Google Music\n",
      "c. Amazon Music\n",
      "d. Apple Music\n",
      "Correct answer: d. Apple Music\n",
      "\n",
      "2. How much does Spotify's Premium subscription cost per month?\n",
      "a. $5\n",
      "b. $10\n",
      "c. $15\n",
      "d. $20\n",
      "Correct answer: c. $15\n",
      "\n",
      "3. How many songs does the average user store in their library?\n",
      "a. 10\n",
      "b. 50\n",
      "c. 100\n",
      "d. 200\n",
      "Correct answer: b. 50\n",
      "\n",
      "4. What feature allows you to save your favorite songs for easy access?\n",
      "a. Playlist\n",
      "b. Albums\n",
      "c. Radio\n",
      "d. Library\n",
      "Correct answer: d. Library\n"
     ]
    }
   ],
   "source": [
    "print(response['choices'][0]['text'])"
   ]
  },
  {
   "cell_type": "markdown",
   "id": "701dae43-33d1-4a75-9179-98d5e76a7dd6",
   "metadata": {},
   "source": [
    "## Q&A Extraction\n"
   ]
  },
  {
   "cell_type": "code",
   "execution_count": 13,
   "id": "7d018c03-e5fb-4269-b21c-08bbe59589be",
   "metadata": {},
   "outputs": [],
   "source": [
    "def create_student_view(test,num_question):\n",
    "    student_view = {1:''}\n",
    "    question_number = 1\n",
    "    for line in test.split(\"\\n\"):\n",
    "        if not line.startswith(\"Correct answer:\"):\n",
    "            student_view[question_number]+= line+'\\n'\n",
    "        else:\n",
    "            if question_number <num_question:\n",
    "                question_number += 1\n",
    "                student_view[question_number] = ''\n",
    "    return student_view"
   ]
  },
  {
   "cell_type": "code",
   "execution_count": 14,
   "id": "935814c5-e301-44e5-b523-afa18cc0b7be",
   "metadata": {},
   "outputs": [],
   "source": [
    "result = create_student_view(response['choices'][0]['text'],4)"
   ]
  },
  {
   "cell_type": "code",
   "execution_count": 15,
   "id": "2c33301f-bc04-4350-ab3f-e808f73bc3b4",
   "metadata": {},
   "outputs": [
    {
     "name": "stdout",
     "output_type": "stream",
     "text": [
      "\n",
      "\n",
      "1. What is the name of the music streaming service owned by Spotify?\n",
      "a. iTunes\n",
      "b. Google Music\n",
      "c. Amazon Music\n",
      "d. Apple Music\n",
      "\n",
      "\n",
      "2. How much does Spotify's Premium subscription cost per month?\n",
      "a. $5\n",
      "b. $10\n",
      "c. $15\n",
      "d. $20\n",
      "\n",
      "\n",
      "3. How many songs does the average user store in their library?\n",
      "a. 10\n",
      "b. 50\n",
      "c. 100\n",
      "d. 200\n",
      "\n",
      "\n",
      "4. What feature allows you to save your favorite songs for easy access?\n",
      "a. Playlist\n",
      "b. Albums\n",
      "c. Radio\n",
      "d. Library\n",
      "\n"
     ]
    }
   ],
   "source": [
    "for key in result:\n",
    "    print(result[key])"
   ]
  },
  {
   "cell_type": "code",
   "execution_count": 16,
   "id": "9181bd51-7c31-4dac-a13e-95a37753eae1",
   "metadata": {},
   "outputs": [],
   "source": [
    "def extract_answer(test,num_question):\n",
    "    answers = {1:''}\n",
    "    question_number = 1\n",
    "    for line in test.split(\"\\n\"):\n",
    "        if line.startswith(\"Correct answer:\"):\n",
    "            answers[question_number]+= line+'\\n'\n",
    "            if question_number <num_question:\n",
    "                question_number += 1\n",
    "                answers[question_number] = ''\n",
    "    return answers"
   ]
  },
  {
   "cell_type": "code",
   "execution_count": 17,
   "id": "08bd87ec-eb61-410c-8b49-664b057e52ac",
   "metadata": {},
   "outputs": [
    {
     "data": {
      "text/plain": [
       "{1: 'Correct answer: d. Apple Music\\n',\n",
       " 2: 'Correct answer: c. $15\\n',\n",
       " 3: 'Correct answer: b. 50\\n',\n",
       " 4: 'Correct answer: d. Library\\n'}"
      ]
     },
     "execution_count": 17,
     "metadata": {},
     "output_type": "execute_result"
    }
   ],
   "source": [
    "extract_answer(response['choices'][0]['text'],4)"
   ]
  },
  {
   "cell_type": "code",
   "execution_count": 18,
   "id": "0ee5004a-7f2a-4fb7-b674-de45298bf2f3",
   "metadata": {},
   "outputs": [],
   "source": [
    "student_view = create_student_view(response['choices'][0]['text'],4)"
   ]
  },
  {
   "cell_type": "code",
   "execution_count": 19,
   "id": "76b027f6-2853-403c-b84e-cd4ac20a650e",
   "metadata": {},
   "outputs": [],
   "source": [
    "answers = extract_answer(response['choices'][0]['text'],4)"
   ]
  },
  {
   "cell_type": "code",
   "execution_count": null,
   "id": "f302f90e-5ab7-491a-a3ca-1d1b5ab32338",
   "metadata": {},
   "outputs": [],
   "source": []
  },
  {
   "cell_type": "code",
   "execution_count": null,
   "id": "06ce96a0-c2e5-4d0e-b866-7f44a5994ae9",
   "metadata": {},
   "outputs": [],
   "source": []
  }
 ],
 "metadata": {
  "kernelspec": {
   "display_name": "Python 3 (ipykernel)",
   "language": "python",
   "name": "python3"
  },
  "language_info": {
   "codemirror_mode": {
    "name": "ipython",
    "version": 3
   },
   "file_extension": ".py",
   "mimetype": "text/x-python",
   "name": "python",
   "nbconvert_exporter": "python",
   "pygments_lexer": "ipython3",
   "version": "3.9.12"
  }
 },
 "nbformat": 4,
 "nbformat_minor": 5
}
