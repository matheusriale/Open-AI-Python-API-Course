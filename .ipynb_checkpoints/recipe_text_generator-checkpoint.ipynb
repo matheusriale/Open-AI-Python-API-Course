{
 "cells": [
  {
   "cell_type": "code",
   "execution_count": 1,
   "id": "667e6c94-eed1-4f61-8452-d37aec9c608f",
   "metadata": {},
   "outputs": [],
   "source": [
    "import os\n",
    "import openai"
   ]
  },
  {
   "cell_type": "code",
   "execution_count": 3,
   "id": "0e1fc880-4e3d-4afd-b4e9-f08da8beff7f",
   "metadata": {},
   "outputs": [],
   "source": [
    "#os.environ['OPENAI_API_KEY'] = ''\n",
    "openai.api_key = os.getenv('OPENAI_API_KEY')\n"
   ]
  },
  {
   "cell_type": "code",
   "execution_count": 7,
   "id": "f9d21a98-8f17-4a81-b06b-0116f529519d",
   "metadata": {},
   "outputs": [],
   "source": [
    "def create_dish_prompt(list_of_ingredients):\n",
    "    prompt = f\"Create a detailed recipe based on only the following ingredients: {', '.join(list_of_ingredients)}.\\n\"\\\n",
    "            +f\"Additionally, assign a title starting with 'Recipe Title: ' to this recipe.'\"\n",
    "    return prompt"
   ]
  },
  {
   "cell_type": "code",
   "execution_count": null,
   "id": "443723f1-f52b-47be-a3ed-c301dcbc0297",
   "metadata": {},
   "outputs": [],
   "source": []
  },
  {
   "cell_type": "code",
   "execution_count": 5,
   "id": "dd6316fe-5173-49ca-9cae-8d0fa6e8f893",
   "metadata": {},
   "outputs": [],
   "source": [
    "i = ['eggs','bacon','bread']"
   ]
  },
  {
   "cell_type": "code",
   "execution_count": 6,
   "id": "40310fce-fa2a-4edf-bead-1295824c5401",
   "metadata": {},
   "outputs": [
    {
     "data": {
      "text/plain": [
       "'eggs, bacon, bread'"
      ]
     },
     "execution_count": 6,
     "metadata": {},
     "output_type": "execute_result"
    }
   ],
   "source": [
    "', '.join(i)"
   ]
  }
 ],
 "metadata": {
  "kernelspec": {
   "display_name": "Python 3 (ipykernel)",
   "language": "python",
   "name": "python3"
  },
  "language_info": {
   "codemirror_mode": {
    "name": "ipython",
    "version": 3
   },
   "file_extension": ".py",
   "mimetype": "text/x-python",
   "name": "python",
   "nbconvert_exporter": "python",
   "pygments_lexer": "ipython3",
   "version": "3.9.12"
  }
 },
 "nbformat": 4,
 "nbformat_minor": 5
}
