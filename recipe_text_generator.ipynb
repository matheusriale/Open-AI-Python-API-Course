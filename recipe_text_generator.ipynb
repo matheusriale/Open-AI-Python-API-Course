{
 "cells": [
  {
   "cell_type": "code",
   "execution_count": 1,
   "id": "667e6c94-eed1-4f61-8452-d37aec9c608f",
   "metadata": {},
   "outputs": [],
   "source": [
    "import os\n",
    "import openai"
   ]
  },
  {
   "cell_type": "code",
   "execution_count": 3,
   "id": "0e1fc880-4e3d-4afd-b4e9-f08da8beff7f",
   "metadata": {},
   "outputs": [],
   "source": [
    "#os.environ['OPENAI_API_KEY'] = ''\n",
    "openai.api_key = os.getenv('OPENAI_API_KEY')\n"
   ]
  },
  {
   "cell_type": "code",
   "execution_count": 7,
   "id": "f9d21a98-8f17-4a81-b06b-0116f529519d",
   "metadata": {},
   "outputs": [],
   "source": [
    "def create_dish_prompt(list_of_ingredients):\n",
    "    prompt = f\"Create a detailed recipe based on only the following ingredients: {', '.join(list_of_ingredients)}.\\n\"\\\n",
    "            +f\"Additionally, assign a title starting with 'Recipe Title: ' to this recipe.'\"\n",
    "    return prompt"
   ]
  },
  {
   "cell_type": "code",
   "execution_count": 12,
   "id": "e4fd5f00-fc20-4ecb-9206-900263985b8d",
   "metadata": {},
   "outputs": [
    {
     "name": "stdout",
     "output_type": "stream",
     "text": [
      "Create a detailed recipe based on only the following ingredients: ham, turkey, eggs, bread.\n",
      "Additionally, assign a title starting with 'Recipe Title: ' to this recipe.'\n"
     ]
    }
   ],
   "source": [
    "print(create_dish_prompt(['ham','turkey','eggs','bread']))"
   ]
  },
  {
   "cell_type": "code",
   "execution_count": 13,
   "id": "443723f1-f52b-47be-a3ed-c301dcbc0297",
   "metadata": {},
   "outputs": [],
   "source": [
    "recipe = create_dish_prompt(['ham','turkey','eggs','bread'])"
   ]
  },
  {
   "cell_type": "code",
   "execution_count": 18,
   "id": "03ac8d1a-7a1a-4262-a689-f28db38d3d21",
   "metadata": {},
   "outputs": [],
   "source": [
    "response = openai.Completion.create(engine = 'text-davinci-003',\n",
    "                                    prompt = recipe,\n",
    "                                    max_tokens = 512,\n",
    "                                   temperature = 0.7)"
   ]
  },
  {
   "cell_type": "code",
   "execution_count": 19,
   "id": "555c3b1b-ef3c-4a2e-9018-57d5b370fc9c",
   "metadata": {},
   "outputs": [
    {
     "name": "stdout",
     "output_type": "stream",
     "text": [
      "\n",
      "\n",
      "Recipe Title: Ham and Turkey Frittata\n",
      "\n",
      "Ingredients:\n",
      "- 4 large eggs\n",
      "- 1⁄2 cup diced ham\n",
      "- 1⁄2 cup diced turkey\n",
      "- 2 slices of bread, cubed\n",
      "- 1⁄4 cup chopped onion\n",
      "- 2 tablespoons olive oil\n",
      "- Salt and pepper to taste\n",
      "\n",
      "Instructions:\n",
      "\n",
      "1. Preheat oven to 375°F.\n",
      "\n",
      "2. Heat the olive oil in a 9-inch oven-safe skillet over medium-high heat.\n",
      "\n",
      "3. Add the onion to the skillet and cook for 2 minutes, stirring often.\n",
      "\n",
      "4. Add the ham and turkey to the skillet and cook for an additional 3 minutes, stirring often.\n",
      "\n",
      "5. Add the cubed bread to the skillet and mix everything together.\n",
      "\n",
      "6. In a medium bowl, whisk together the eggs until light and fluffy.\n",
      "\n",
      "7. Pour the egg mixture into the skillet and season with salt and pepper, to taste.\n",
      "\n",
      "8. Cook for 2 minutes, stirring often, until the mixture starts to set.\n",
      "\n",
      "9. Transfer the skillet to the preheated oven and bake for 18-20 minutes, until the frittata is golden brown and cooked through.\n",
      "\n",
      "10. Remove the frittata from the oven and allow to cool for 5 minutes before slicing and serving. Enjoy!\n"
     ]
    }
   ],
   "source": [
    "print(response['choices'][0]['text'])"
   ]
  },
  {
   "cell_type": "code",
   "execution_count": 21,
   "id": "51e7ee28-ca09-44b9-9191-204abc247783",
   "metadata": {},
   "outputs": [],
   "source": [
    "result_text = response['choices'][0]['text']"
   ]
  },
  {
   "cell_type": "code",
   "execution_count": 20,
   "id": "bb927253-c485-4e6e-b66c-91c33bf41ebe",
   "metadata": {},
   "outputs": [],
   "source": [
    "import re"
   ]
  },
  {
   "cell_type": "code",
   "execution_count": 22,
   "id": "512cb108-7330-4691-bc15-3c97018a9d35",
   "metadata": {},
   "outputs": [
    {
     "data": {
      "text/plain": [
       "['\\n\\n',\n",
       " 'Ham and Turkey Frittata\\n\\nIngredients:\\n- 4 large eggs\\n- 1⁄2 cup diced ham\\n- 1⁄2 cup diced turkey\\n- 2 slices of bread, cubed\\n- 1⁄4 cup chopped onion\\n- 2 tablespoons olive oil\\n- Salt and pepper to taste\\n\\nInstructions:\\n\\n1. Preheat oven to 375°F.\\n\\n2. Heat the olive oil in a 9-inch oven-safe skillet over medium-high heat.\\n\\n3. Add the onion to the skillet and cook for 2 minutes, stirring often.\\n\\n4. Add the ham and turkey to the skillet and cook for an additional 3 minutes, stirring often.\\n\\n5. Add the cubed bread to the skillet and mix everything together.\\n\\n6. In a medium bowl, whisk together the eggs until light and fluffy.\\n\\n7. Pour the egg mixture into the skillet and season with salt and pepper, to taste.\\n\\n8. Cook for 2 minutes, stirring often, until the mixture starts to set.\\n\\n9. Transfer the skillet to the preheated oven and bake for 18-20 minutes, until the frittata is golden brown and cooked through.\\n\\n10. Remove the frittata from the oven and allow to cool for 5 minutes before slicing and serving. Enjoy!']"
      ]
     },
     "execution_count": 22,
     "metadata": {},
     "output_type": "execute_result"
    }
   ],
   "source": [
    "result_text.split(\"Recipe Title: \")"
   ]
  },
  {
   "cell_type": "code",
   "execution_count": 31,
   "id": "efd100d6-cccd-45f7-af34-7c5595a4b9b0",
   "metadata": {},
   "outputs": [],
   "source": [
    "def extract_title(recipe):\n",
    "    return re.findall('^.*Recipe Title: .*$', recipe,re.MULTILINE)[0].strip().split(\"Recipe Title: \")[-1]"
   ]
  },
  {
   "cell_type": "code",
   "execution_count": 32,
   "id": "9d3a32bd-bbfb-4722-b6f7-bba436a781d9",
   "metadata": {},
   "outputs": [
    {
     "data": {
      "text/plain": [
       "'Ham and Turkey Frittata'"
      ]
     },
     "execution_count": 32,
     "metadata": {},
     "output_type": "execute_result"
    }
   ],
   "source": [
    "extract_title(result_text)"
   ]
  }
 ],
 "metadata": {
  "kernelspec": {
   "display_name": "Python 3 (ipykernel)",
   "language": "python",
   "name": "python3"
  },
  "language_info": {
   "codemirror_mode": {
    "name": "ipython",
    "version": 3
   },
   "file_extension": ".py",
   "mimetype": "text/x-python",
   "name": "python",
   "nbconvert_exporter": "python",
   "pygments_lexer": "ipython3",
   "version": "3.9.12"
  }
 },
 "nbformat": 4,
 "nbformat_minor": 5
}
