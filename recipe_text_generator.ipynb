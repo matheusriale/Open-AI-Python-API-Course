{
 "cells": [
  {
   "cell_type": "code",
   "execution_count": null,
   "id": "667e6c94-eed1-4f61-8452-d37aec9c608f",
   "metadata": {},
   "outputs": [],
   "source": [
    "import os\n",
    "import openai"
   ]
  },
  {
   "cell_type": "code",
   "execution_count": null,
   "id": "0e1fc880-4e3d-4afd-b4e9-f08da8beff7f",
   "metadata": {},
   "outputs": [],
   "source": [
    "#os.environ['OPENAI_API_KEY'] = ''\n",
    "openai.api_key = os.getenv('OPENAI_API_KEY')\n"
   ]
  },
  {
   "cell_type": "code",
   "execution_count": null,
   "id": "f9d21a98-8f17-4a81-b06b-0116f529519d",
   "metadata": {},
   "outputs": [],
   "source": [
    "def create_dish_prompt(list_of_ingredients):\n",
    "    prompt = f\"Create a detailed recipe based on only the following ingredients: {', '.join(list_of_ingredients)}.\\n\"\\\n",
    "            +f\"Additionally, assign a title starting with 'Recipe Title: ' to this recipe.'\"\n",
    "    return prompt"
   ]
  },
  {
   "cell_type": "code",
   "execution_count": null,
   "id": "e4fd5f00-fc20-4ecb-9206-900263985b8d",
   "metadata": {},
   "outputs": [],
   "source": [
    "print(create_dish_prompt(['ham','turkey','eggs','bread']))"
   ]
  },
  {
   "cell_type": "code",
   "execution_count": null,
   "id": "443723f1-f52b-47be-a3ed-c301dcbc0297",
   "metadata": {},
   "outputs": [],
   "source": [
    "recipe = create_dish_prompt(['ham','turkey','eggs','bread'])"
   ]
  },
  {
   "cell_type": "code",
   "execution_count": null,
   "id": "03ac8d1a-7a1a-4262-a689-f28db38d3d21",
   "metadata": {},
   "outputs": [],
   "source": [
    "response = openai.Completion.create(engine = 'text-davinci-003',\n",
    "                                    prompt = recipe,\n",
    "                                    max_tokens = 512,\n",
    "                                   temperature = 0.7)"
   ]
  },
  {
   "cell_type": "code",
   "execution_count": null,
   "id": "555c3b1b-ef3c-4a2e-9018-57d5b370fc9c",
   "metadata": {},
   "outputs": [],
   "source": [
    "print(response['choices'][0]['text'])"
   ]
  },
  {
   "cell_type": "code",
   "execution_count": null,
   "id": "51e7ee28-ca09-44b9-9191-204abc247783",
   "metadata": {},
   "outputs": [],
   "source": [
    "result_text = response['choices'][0]['text']"
   ]
  },
  {
   "cell_type": "code",
   "execution_count": null,
   "id": "bb927253-c485-4e6e-b66c-91c33bf41ebe",
   "metadata": {},
   "outputs": [],
   "source": [
    "import re"
   ]
  },
  {
   "cell_type": "code",
   "execution_count": null,
   "id": "512cb108-7330-4691-bc15-3c97018a9d35",
   "metadata": {},
   "outputs": [],
   "source": [
    "result_text.split(\"Recipe Title: \")"
   ]
  },
  {
   "cell_type": "code",
   "execution_count": null,
   "id": "efd100d6-cccd-45f7-af34-7c5595a4b9b0",
   "metadata": {},
   "outputs": [],
   "source": [
    "def extract_title(recipe):\n",
    "    return re.findall('^.*Recipe Title: .*$', recipe,re.MULTILINE)[0].strip().split(\"Recipe Title: \")[-1]"
   ]
  },
  {
   "cell_type": "code",
   "execution_count": null,
   "id": "9d3a32bd-bbfb-4722-b6f7-bba436a781d9",
   "metadata": {},
   "outputs": [],
   "source": [
    "extract_title(result_text)"
   ]
  },
  {
   "cell_type": "code",
   "execution_count": null,
   "id": "5c862797-9bcc-46fc-903f-575b8a7ec82b",
   "metadata": {},
   "outputs": [],
   "source": [
    "response = openai.Image.create(prompt = extract_title(result_text),\n",
    "                                n = 1,\n",
    "                                size = '1024x1024')"
   ]
  },
  {
   "cell_type": "code",
   "execution_count": null,
   "id": "7a72ce2a-bb2e-43db-92d9-bb5f269eb24f",
   "metadata": {},
   "outputs": [],
   "source": []
  },
  {
   "cell_type": "code",
   "execution_count": null,
   "id": "70b225ac-9a20-4126-98d6-6945921826f4",
   "metadata": {},
   "outputs": [],
   "source": []
  },
  {
   "cell_type": "code",
   "execution_count": null,
   "id": "4f246475-65bf-4bdc-8f57-6f724d90bb70",
   "metadata": {},
   "outputs": [],
   "source": []
  }
 ],
 "metadata": {
  "kernelspec": {
   "display_name": "Python 3 (ipykernel)",
   "language": "python",
   "name": "python3"
  },
  "language_info": {
   "codemirror_mode": {
    "name": "ipython",
    "version": 3
   },
   "file_extension": ".py",
   "mimetype": "text/x-python",
   "name": "python",
   "nbconvert_exporter": "python",
   "pygments_lexer": "ipython3",
   "version": "3.9.12"
  }
 },
 "nbformat": 4,
 "nbformat_minor": 5
}
